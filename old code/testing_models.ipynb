{
 "cells": [
  {
   "cell_type": "markdown",
   "metadata": {},
   "source": [
    "# Testing different models"
   ]
  },
  {
   "cell_type": "code",
   "execution_count": 1,
   "metadata": {},
   "outputs": [],
   "source": [
    "# Import packages\n",
    "import pandas as pd \n",
    "import numpy as np\n",
    "from sklearn.neural_network import MLPClassifier\n",
    "from sklearn.neighbors import KNeighborsClassifier\n",
    "from sklearn.ensemble import RandomForestClassifier\n",
    "from sklearn.model_selection import cross_validate, ParameterSampler\n",
    "from sklearn.feature_selection import RFE\n",
    "\n",
    "# Read in the data\n",
    "data = pd.read_csv('./../data/features_v2.csv', index_col=0)\n",
    "X = data.drop(columns=['track_id', 'genre_code'])\n",
    "X = pd.get_dummies(X, columns=['major', 'key'], drop_first=True).values\n",
    "y = data[['genre_code']].values.ravel()\n"
   ]
  },
  {
   "cell_type": "markdown",
   "metadata": {},
   "source": [
    "## Neural Network (MLP)"
   ]
  },
  {
   "cell_type": "code",
   "execution_count": 2,
   "metadata": {},
   "outputs": [
    {
     "name": "stdout",
     "output_type": "stream",
     "text": [
      "########################################\n",
      "\n",
      "Best Mean CV Score:  0.2169398740295288\n",
      "Best Parameters: {'hidden_layer_sizes': 650, 'alpha': 0.002227777777777778}\n"
     ]
    }
   ],
   "source": [
    "# Get the CV average across 7 folds for an mlp\n",
    "p_dict = {'hidden_layer_sizes':range(100, 1001, 50), 'alpha':np.linspace(.00001, .005, 10)}\n",
    "param_grid = ParameterSampler(p_dict, 20)\n",
    "mlp = MLPClassifier(max_iter=500, warm_start=False)\n",
    "best = 0\n",
    "best_params = 0\n",
    "for params in param_grid:\n",
    "    mlp.set_params(**params)\n",
    "    scores = cross_validate(mlp, X, y, cv=5)['test_score']\n",
    "    if np.mean(scores) > best:\n",
    "        best = np.mean(scores)\n",
    "        best_params = params\n",
    "    print('##', end='')\n",
    "print('\\n\\nBest Mean CV Score: ', best)\n",
    "print('Best Parameters:', best_params)\n"
   ]
  },
  {
   "cell_type": "markdown",
   "metadata": {},
   "source": [
    "## KNN"
   ]
  },
  {
   "cell_type": "code",
   "execution_count": 4,
   "metadata": {},
   "outputs": [
    {
     "name": "stdout",
     "output_type": "stream",
     "text": [
      "########################################\n",
      "\n",
      "Best Mean CV Score:  0.19804845174667207\n",
      "Best Parameters: {'weights': 'distance', 'n_neighbors': 20, 'leaf_size': 30, 'algorithm': 'ball_tree'}\n"
     ]
    }
   ],
   "source": [
    "# Get the average CV score over 5 folds\n",
    "knn = KNeighborsClassifier()\n",
    "# Get the CV average across 7 folds for an mlp\n",
    "p_dict = {'n_neighbors':range(5, 101, 5), 'weights':['uniform', 'distance'], 'algorithm':['ball_tree', 'kd_tree'], 'leaf_size':range(15, 51, 5)}    \n",
    "param_grid = ParameterSampler(p_dict, 20)\n",
    "best = 0\n",
    "best_params = 0\n",
    "for params in param_grid:\n",
    "    knn.set_params(**params)\n",
    "    scores = cross_validate(knn, X, y, cv=5)['test_score']\n",
    "    if np.mean(scores) > best:\n",
    "        best = np.mean(scores)\n",
    "        best_params = params\n",
    "    print('##', end='')\n",
    "print('\\n\\nBest Mean CV Score: ', best)\n",
    "print('Best Parameters:', best_params)"
   ]
  }
 ],
 "metadata": {
  "kernelspec": {
   "display_name": "Python 3",
   "language": "python",
   "name": "python3"
  },
  "language_info": {
   "codemirror_mode": {
    "name": "ipython",
    "version": 3
   },
   "file_extension": ".py",
   "mimetype": "text/x-python",
   "name": "python",
   "nbconvert_exporter": "python",
   "pygments_lexer": "ipython3",
   "version": "3.8.5"
  }
 },
 "nbformat": 4,
 "nbformat_minor": 4
}
